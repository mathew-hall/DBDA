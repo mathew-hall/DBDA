{
 "cells": [
  {
   "cell_type": "code",
   "execution_count": 9,
   "metadata": {
    "collapsed": false
   },
   "outputs": [
    {
     "data": {
      "text/html": [
       "<table>\n",
       "<thead><tr><th></th><th scope=col>present</th><th scope=col>absent</th><th scope=col>marginal</th></tr></thead>\n",
       "<tbody>\n",
       "\t<tr><th scope=row>positive</th><td>0.00099</td><td>0.04995</td><td>0.05094</td></tr>\n",
       "\t<tr><th scope=row>negative</th><td>0.00001</td><td>0.94905</td><td>0.94906</td></tr>\n",
       "\t<tr><th scope=row>marginal</th><td>0.001</td><td>0.999</td><td>1.000</td></tr>\n",
       "</tbody>\n",
       "</table>\n"
      ],
      "text/latex": [
       "\\begin{tabular}{r|lll}\n",
       "  & present & absent & marginal\\\\\n",
       "\\hline\n",
       "\tpositive & 0.00099 & 0.04995 & 0.05094\\\\\n",
       "\tnegative & 0.00001 & 0.94905 & 0.94906\\\\\n",
       "\tmarginal & 0.001 & 0.999 & 1.000\\\\\n",
       "\\end{tabular}\n"
      ],
      "text/markdown": [
       "1. 0.00099\n",
       "2. 1e-05\n",
       "3. 0.001\n",
       "4. 0.04995\n",
       "5. 0.94905\n",
       "6. 0.999\n",
       "7. 0.05094\n",
       "8. 0.94906\n",
       "9. 1\n",
       "\n",
       "\n"
      ],
      "text/plain": [
       "         present  absent marginal\n",
       "positive 0.00099 0.04995  0.05094\n",
       "negative 0.00001 0.94905  0.94906\n",
       "marginal 0.00100 0.99900  1.00000"
      ]
     },
     "execution_count": 9,
     "metadata": {},
     "output_type": "execute_result"
    }
   ],
   "source": [
    "pPresence <- 0.001\n",
    "pAbsence <- 1-pPresence\n",
    "\n",
    "pPositiveGivenPresence <- 0.99\n",
    "pPositiveGivenAbsence  <- 0.05\n",
    "\n",
    "pNegativeGivenPresence <- 1-pPositiveGivenPresence\n",
    "pNegativeGivenAbsence  <- 1-pPositiveGivenAbsence\n",
    "\n",
    "pNegative <- pNegativeGivenPresence * pPresence + pNegativeGivenAbsence * pAbsence\n",
    "pPositive <- pPositiveGivenPresence * pPresence + pPositiveGivenAbsence * pAbsence\n",
    "\n",
    "\n",
    "tab <- cbind(\n",
    "    present=c(positive=pPositiveGivenPresence * pPresence, negative=pNegativeGivenPresence * pPresence, marginal=pPresence),\n",
    "    absent =c(         pPositiveGivenAbsence * pAbsence,          pNegativeGivenAbsence * pAbsence, pAbsence),\n",
    "    marginal = c(pPositive,pNegative,(pAbsence+pPresence) * (pPositive+pNegative))\n",
    ")\n",
    "\n",
    "tab"
   ]
  },
  {
   "cell_type": "code",
   "execution_count": 16,
   "metadata": {
    "collapsed": false
   },
   "outputs": [
    {
     "data": {
      "text/html": [
       "0.019434628975265"
      ],
      "text/latex": [
       "0.019434628975265"
      ],
      "text/markdown": [
       "0.019434628975265"
      ],
      "text/plain": [
       "[1] 0.019435"
      ]
     },
     "execution_count": 16,
     "metadata": {},
     "output_type": "execute_result"
    }
   ],
   "source": [
    "pPresentGivenP <- (tab[1,1]) / tab[1,3] \n",
    "pPresentGivenP"
   ]
  },
  {
   "cell_type": "code",
   "execution_count": 30,
   "metadata": {
    "collapsed": false
   },
   "outputs": [
    {
     "data": {
      "text/html": [
       "'0.00020859'"
      ],
      "text/latex": [
       "'0.00020859'"
      ],
      "text/markdown": [
       "'0.00020859'"
      ],
      "text/plain": [
       "[1] \"0.00020859\""
      ]
     },
     "execution_count": 30,
     "metadata": {},
     "output_type": "execute_result"
    }
   ],
   "source": [
    "pPresentGivenNP <- (pNegativeGivenPresence * (pPresentGivenP))/\n",
    "        (pNegativeGivenPresence * (pPresentGivenP) + pNegativeGivenAbsence * (1-pPresentGivenP))\n",
    "format(pPresentGivenNP,scientific=F)"
   ]
  },
  {
   "cell_type": "code",
   "execution_count": 31,
   "metadata": {
    "collapsed": false
   },
   "outputs": [
    {
     "data": {
      "text/html": [
       "<table>\n",
       "<thead><tr><th></th><th scope=col>present</th><th scope=col>absent</th><th scope=col>marginal</th></tr></thead>\n",
       "<tbody>\n",
       "\t<tr><th scope=row>positive</th><td>  99</td><td>4995</td><td>5094</td></tr>\n",
       "\t<tr><th scope=row>negative</th><td>    1</td><td>94905</td><td>94906</td></tr>\n",
       "\t<tr><th scope=row>marginal</th><td>   100</td><td> 99900</td><td>100000</td></tr>\n",
       "</tbody>\n",
       "</table>\n"
      ],
      "text/latex": [
       "\\begin{tabular}{r|lll}\n",
       "  & present & absent & marginal\\\\\n",
       "\\hline\n",
       "\tpositive &   99 & 4995 & 5094\\\\\n",
       "\tnegative &     1 & 94905 & 94906\\\\\n",
       "\tmarginal &    100 &  99900 & 100000\\\\\n",
       "\\end{tabular}\n"
      ],
      "text/markdown": [
       "1. 99\n",
       "2. 1\n",
       "3. 100\n",
       "4. 4995\n",
       "5. 94905\n",
       "6. 99900\n",
       "7. 5094\n",
       "8. 94906\n",
       "9. 1e+05\n",
       "\n",
       "\n"
      ],
      "text/plain": [
       "         present absent marginal\n",
       "positive      99   4995     5094\n",
       "negative       1  94905    94906\n",
       "marginal     100  99900   100000"
      ]
     },
     "execution_count": 31,
     "metadata": {},
     "output_type": "execute_result"
    }
   ],
   "source": [
    "tab * 100000"
   ]
  },
  {
   "cell_type": "code",
   "execution_count": 35,
   "metadata": {
    "collapsed": false
   },
   "outputs": [],
   "source": [
    "have <- pPositiveGivenPresence * 10000 * pNegativeGivenPresence"
   ]
  },
  {
   "cell_type": "code",
   "execution_count": 36,
   "metadata": {
    "collapsed": false
   },
   "outputs": [],
   "source": [
    "dontHave <- pPositiveGivenAbsence * 9990000 * pNegativeGivenAbsence"
   ]
  },
  {
   "cell_type": "code",
   "execution_count": 37,
   "metadata": {
    "collapsed": false
   },
   "outputs": [
    {
     "data": {
      "text/html": [
       "0.000208586165048544"
      ],
      "text/latex": [
       "0.000208586165048544"
      ],
      "text/markdown": [
       "0.000208586165048544"
      ],
      "text/plain": [
       "[1] 0.00020859"
      ]
     },
     "execution_count": 37,
     "metadata": {},
     "output_type": "execute_result"
    }
   ],
   "source": [
    "have / (have + dontHave)"
   ]
  },
  {
   "cell_type": "code",
   "execution_count": 40,
   "metadata": {
    "collapsed": false
   },
   "outputs": [
    {
     "data": {
      "text/html": [
       "1.05367416180221e-05"
      ],
      "text/latex": [
       "1.05367416180221e-05"
      ],
      "text/markdown": [
       "1.05367416180221e-05"
      ],
      "text/plain": [
       "[1] 1.0537e-05"
      ]
     },
     "execution_count": 40,
     "metadata": {},
     "output_type": "execute_result"
    }
   ],
   "source": [
    "pPresentGivenN <- pNegativeGivenPresence * pPresence / (pNegativeGivenPresence * pPresence + pNegativeGivenAbsence * pAbsence)\n",
    "pPresentGivenN"
   ]
  },
  {
   "cell_type": "code",
   "execution_count": 41,
   "metadata": {
    "collapsed": false
   },
   "outputs": [
    {
     "data": {
      "text/html": [
       "1.05367416180221e-05"
      ],
      "text/latex": [
       "1.05367416180221e-05"
      ],
      "text/markdown": [
       "1.05367416180221e-05"
      ],
      "text/plain": [
       "[1] 1.0537e-05"
      ]
     },
     "execution_count": 41,
     "metadata": {},
     "output_type": "execute_result"
    }
   ],
   "source": [
    "tab[2,1] / tab[2,3]"
   ]
  },
  {
   "cell_type": "code",
   "execution_count": 43,
   "metadata": {
    "collapsed": false
   },
   "outputs": [
    {
     "data": {
      "text/html": [
       "0.000208586165048544"
      ],
      "text/latex": [
       "0.000208586165048544"
      ],
      "text/markdown": [
       "0.000208586165048544"
      ],
      "text/plain": [
       "[1] 0.00020859"
      ]
     },
     "execution_count": 43,
     "metadata": {},
     "output_type": "execute_result"
    }
   ],
   "source": [
    "(pPositiveGivenPresence * pPresentGivenN) / \n",
    "((pPositiveGivenPresence * pPresentGivenN) + pPositiveGivenAbsence * (1-pPresentGivenN))"
   ]
  },
  {
   "cell_type": "code",
   "execution_count": null,
   "metadata": {
    "collapsed": true
   },
   "outputs": [],
   "source": []
  }
 ],
 "metadata": {
  "kernelspec": {
   "display_name": "R",
   "language": "R",
   "name": "ir"
  },
  "language_info": {
   "codemirror_mode": "r",
   "file_extension": ".r",
   "mimetype": "text/x-r-source",
   "name": "R",
   "pygments_lexer": "r",
   "version": "3.2.2"
  }
 },
 "nbformat": 4,
 "nbformat_minor": 0
}
